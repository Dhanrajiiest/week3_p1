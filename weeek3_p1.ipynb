{
  "cells": [
    {
      "cell_type": "code",
      "execution_count": 1,
      "metadata": {
        "colab": {
          "base_uri": "https://localhost:8080/"
        },
        "id": "DXXKQhT7kzSB",
        "outputId": "16b18697-b988-47f2-e7a8-0c91847e9ef1"
      },
      "outputs": [
        {
          "output_type": "stream",
          "name": "stdout",
          "text": [
            "Welcome to the Color Psychology Outfit Recommender!\n",
            "Please enter your current mood (e.g., happy, sad, angry, stressed, relaxed, energetic):\n",
            "Your mood: joy\n",
            "\n",
            "Sorry, we don't have a recommendation for that mood.\n",
            "Try moods like: happy, sad, angry, stressed, relaxed, energetic, etc.\n",
            "\n",
            "Would you like to enter another mood? (yes/no): relaxed\n",
            "Thank you for using the Color Psychology Outfit Recommender. Stay stylish!\n"
          ]
        }
      ],
      "source": [
        "\n",
        "\n",
        "def get_mood():\n",
        "    print(\"Welcome to the Color Psychology Outfit Recommender!\")\n",
        "    print(\"Please enter your current mood (e.g., happy, sad, angry, stressed, relaxed, energetic):\")\n",
        "    mood = input(\"Your mood: \").strip().lower()\n",
        "    return mood\n",
        "\n",
        "def recommend_color_and_outfit(mood):\n",
        "    mood_dict = {\n",
        "        \"happy\": (\"yellow\", [\"yellow t-shirt\", \"yellow sundress\"]),\n",
        "        \"sad\": (\"green\", [\"green hoodie\", \"green cardigan\"]),\n",
        "        \"angry\": (\"black\", [\"black jacket\", \"black boots\"]),\n",
        "        \"stressed\": (\"blue\", [\"blue jeans\", \"blue hoodie\"]),\n",
        "        \"relaxed\": (\"green\", [\"green sweatpants\", \"green t-shirt\"]),\n",
        "        \"energetic\": (\"red\", [\"red sneakers\", \"red tank top\"]),\n",
        "        \"confident\": (\"red\", [\"red blazer\", \"red dress\"]),\n",
        "        \"calm\": (\"blue\", [\"blue shirt\", \"blue sweater\"]),\n",
        "        \"serious\": (\"black\", [\"black trousers\", \"black blazer\"]),\n",
        "        \"caring\": (\"pink\", [\"pink sweater\", \"pink scarf\"])\n",
        "    }\n",
        "\n",
        "    if mood in mood_dict:\n",
        "        color, outfits = mood_dict[mood]\n",
        "        print(f\"\\nBased on your mood '{mood}', we recommend the color: {color.capitalize()}\")\n",
        "        print(\"Outfit Suggestions:\")\n",
        "        for outfit in outfits:\n",
        "            print(f\"- {outfit}\")\n",
        "    else:\n",
        "        print(\"\\nSorry, we don't have a recommendation for that mood.\")\n",
        "        print(\"Try moods like: happy, sad, angry, stressed, relaxed, energetic, etc.\")\n",
        "\n",
        "def main():\n",
        "    while True:\n",
        "        mood = get_mood()\n",
        "        if not mood:\n",
        "            print(\"Mood input cannot be empty. Please try again.\")\n",
        "            continue\n",
        "\n",
        "        recommend_color_and_outfit(mood)\n",
        "\n",
        "        another = input(\"\\nWould you like to enter another mood? (yes/no): \").strip().lower()\n",
        "        if another != \"yes\":\n",
        "            print(\"Thank you for using the Color Psychology Outfit Recommender. Stay stylish!\")\n",
        "            break\n",
        "\n",
        "if __name__ == \"__main__\":\n",
        "    main()\n"
      ]
    }
  ],
  "metadata": {
    "colab": {
      "provenance": []
    },
    "kernelspec": {
      "display_name": "Python 3",
      "name": "python3"
    },
    "language_info": {
      "name": "python"
    }
  },
  "nbformat": 4,
  "nbformat_minor": 0
}